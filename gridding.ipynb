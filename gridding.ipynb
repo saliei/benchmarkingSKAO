{
 "cells": [
  {
   "cell_type": "code",
   "execution_count": 10,
   "id": "7d248020-1c6a-4001-8360-a7dff6354a1e",
   "metadata": {},
   "outputs": [],
   "source": [
    "from IPython.display import Image"
   ]
  },
  {
   "cell_type": "markdown",
   "id": "d7628cac-d383-4eff-8c79-5ea119200c6b",
   "metadata": {},
   "source": [
    "# Gridding\n",
    "\n",
    "Here we present multiple solutions and approaches on the gridding problem for a potentially huge dataset."
   ]
  },
  {
   "cell_type": "markdown",
   "id": "e2d672d4-a7f0-48bb-9aa0-edcc2017983a",
   "metadata": {},
   "source": [
    "## Summary\n",
    "\n",
    "- We achieve a **10 fold** increase...\n",
    "- scaling\n",
    "- C\n",
    "- CUDA\n",
    "\n",
    "In what follows we put the detailed study of the different approaches and benchmarking results for different versions: "
   ]
  },
  {
   "cell_type": "markdown",
   "id": "26553d83-79f0-4974-b6af-4ca22769bd9f",
   "metadata": {},
   "source": [
    "## 1. `python/` \n",
    "\n",
    "Contains the treatment of the problem in pure python, the approaches taken on each of the versions are as follow:\n",
    "   - `v0_original.py`: The original version of the code.\n",
    "   - `v1_index_calc_jitted.py`: Calculating the grid indices has been Just In Compiled (JIT).\n",
    "   - `v2_gridding_jitted.py`: The whole gridding function has been compiled.\n",
    "   - `v3_single_timestep_vectorized.py`: Calculation of a single timestep of the grid has been fully vectorized using numpy intrinsic functions.\n",
    "   - `v4_single_timestep_vectorized_jitted.py`: On top of vectorizing a single timestep the function for calculating a single timestep of the grid has been compiled.\n",
    "   - `v5_gridding_vectorized.py`: The whole gridding function has been fully vectorized using numpy.\n",
    "   - `v6_gridding_vectorized_multithreaded.py`: On top of vectorizing the gridding function it uses python `concurrent` library to parallelize the gridding over `n_workers` threads using chunks of the dataset.\n",
    "   - `v7_mpi_timesteps.py`: Using `mpi4py` library we divide the computation of the grid over timsteps to multiple processes.\n",
    "   - `v8_mpi_baselines.py`: Same as above but divide the dataset over baseline pairs wrather than timesteps to multiple process."
   ]
  },
  {
   "cell_type": "markdown",
   "id": "23110084-cdca-4e8b-8afb-fb8edb2d034e",
   "metadata": {},
   "source": [
    "### 1.1 Benchmarking\n",
    "\n",
    "Here we present the benchmarking results obtained on pure python implementations. Note that these benchmarks are done on a single node, with *dual sockets* and an *AMD EPYC 7H12 64-Core Processor* per socket."
   ]
  },
  {
   "cell_type": "markdown",
   "id": "26270b48-eb09-4ec5-b07e-ebc10dbff9bd",
   "metadata": {},
   "source": [
    "![original_version](python/plots/v0_original.png)"
   ]
  },
  {
   "cell_type": "markdown",
   "id": "2283fc8b-4da3-4b20-9c03-293807518459",
   "metadata": {},
   "source": [
    "From the benchmark above we see that the most time consuming and the bottleneck is the `gridding` function as we expected from the 3 nestes loops in python! For this reason we will focus our attention on the gridding function and will present the different results and strategies on that.\n",
    "\n",
    "Here we put the benchamrking for the different version of the code, without any explicit parallelism by us (e.g. the benchmarks below are for the versions 1 to 5 without any multi-threading or use of MPI multi-processing)"
   ]
  },
  {
   "cell_type": "markdown",
   "id": "8119c2bf-1580-4570-acee-70f6af7bfbcf",
   "metadata": {},
   "source": [
    "![v1tov5](python/plots/v1tov5.png)"
   ]
  },
  {
   "cell_type": "markdown",
   "id": "80724f33-703a-4c57-a3d1-8caa0fd7b993",
   "metadata": {},
   "source": [
    "![v6](python/plots/v6.png)"
   ]
  },
  {
   "cell_type": "markdown",
   "id": "0c90bd9c-d7a2-45d0-97ea-db8244981027",
   "metadata": {},
   "source": [
    "![v7v8](python/plots/v7v8.png)"
   ]
  },
  {
   "cell_type": "markdown",
   "id": "d533fe2b-ee62-4d87-8852-679695910ded",
   "metadata": {},
   "source": [
    "## 2.`C_python/`"
   ]
  },
  {
   "cell_type": "markdown",
   "id": "d391cb9b-dfd5-46d4-a3f5-1cc267eeb224",
   "metadata": {},
   "source": [
    "\n",
    "| Version 1 (OpenMP): Number of Threads  | Time(s) |\n",
    "| ------------------ | --------|\n",
    "| 1   | 0.316 |\n",
    "| 2   | 0.172 |\n",
    "| 4   | 0.094 |\n",
    "| 8   | 0.053 |\n",
    "| 16  | 0.035 |\n",
    "| 32  | 0.034 |\n",
    "| 64  | 0.037 |\n",
    "| 128 | 0.048 |"
   ]
  },
  {
   "cell_type": "markdown",
   "id": "bfb60e8d-41ff-44dc-b856-bbe4d592e934",
   "metadata": {},
   "source": [
    "<center><img src=\"C_python/plots/v1.png\" alt=\"v1\"/></center>"
   ]
  },
  {
   "cell_type": "markdown",
   "id": "87b14c2a-9894-4ff7-94fa-b3b1ed1d4e99",
   "metadata": {},
   "source": [
    "\n",
    "| Version 2 (MPI): Number of MPI Processes  | Time(s) |\n",
    "| ------------------ | --------|\n",
    "| 1   | 0.340 |\n",
    "| 2   | 0.198 |\n",
    "| 4   | 0.181 |\n",
    "| 8   | 0.170 |\n",
    "| 16  | 0.198 |\n",
    "| 32  | 0.306 |\n",
    "| 64  | 0.386 |\n",
    "| 128 | 0.674 |"
   ]
  },
  {
   "cell_type": "markdown",
   "id": "aced1e94-66e5-4080-af15-e71e1bac7f03",
   "metadata": {},
   "source": [
    "<center><img src=\"C_python/plots/v2.png\" alt=\"v2\"/></center>"
   ]
  },
  {
   "cell_type": "markdown",
   "id": "7183c75b-b195-4493-a2db-ffcd1ff1d5e7",
   "metadata": {},
   "source": [
    "\n",
    "| Version 3 (SIMD/OpenMP): Number of Threads  | Time(s) |\n",
    "| ------------------ | --------|\n",
    "| 1   | 0.162 |\n",
    "| 2   | 0.088 |\n",
    "| 4   | 0.045 |\n",
    "| 8   | 0.030 |\n",
    "| 16  | 0.026 |\n",
    "| 32  | 0.030 |\n",
    "| 64  | 0.034 |\n",
    "| 128 | 0.045 |"
   ]
  },
  {
   "cell_type": "markdown",
   "id": "238e5cb4-510c-4a8e-9b5e-a9f8cec549f8",
   "metadata": {},
   "source": [
    "<center><img src=\"C_python/plots/v3.png\" alt=\"v3\"/></center>"
   ]
  },
  {
   "cell_type": "code",
   "execution_count": null,
   "id": "9e6cfe2f-fe6e-4164-b76e-70b87e9bace1",
   "metadata": {},
   "outputs": [],
   "source": []
  }
 ],
 "metadata": {
  "kernelspec": {
   "display_name": "Python 3 (ipykernel)",
   "language": "python",
   "name": "python3"
  },
  "language_info": {
   "codemirror_mode": {
    "name": "ipython",
    "version": 3
   },
   "file_extension": ".py",
   "mimetype": "text/x-python",
   "name": "python",
   "nbconvert_exporter": "python",
   "pygments_lexer": "ipython3",
   "version": "3.12.3"
  }
 },
 "nbformat": 4,
 "nbformat_minor": 5
}
