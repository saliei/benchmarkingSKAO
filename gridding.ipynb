{
 "cells": [
  {
   "cell_type": "markdown",
   "id": "d7628cac-d383-4eff-8c79-5ea119200c6b",
   "metadata": {},
   "source": [
    "# Gridding\n",
    "\n",
    "Here we present multiple solutions and approaches on the gridding problem for a potentially huge dataset.\n",
    "\n",
    "The organization of the source codes are as follow:  "
   ]
  },
  {
   "cell_type": "markdown",
   "id": "26553d83-79f0-4974-b6af-4ca22769bd9f",
   "metadata": {},
   "source": [
    "## `python/` \n",
    "\n",
    "Contains the treatment of the problem in pure python, the approaches taken on each of the versions are as follow:\n",
    "   - `v0_original.py`: The original version of the code.\n",
    "   - `v1_index_calc_jitted.py`: Calculating the grid indices has been Just In Compiled (JIT).\n",
    "   - `v2_gridding_jitted.py`: The whole gridding function has been compiled.\n",
    "   - `v3_single_timestep_vectorized.py`: Calculation of a single timestep of the grid has been fully vectorized using numpy intrinsic functions.\n",
    "   - `v4_single_timestep_vectorized_jitted.py`: On top of vectorizing a single timestep the function for calculating a single timestep of the grid has been compiled.\n",
    "   - `v5_gridding_vectorized.py`: The whole gridding function has been fully vectorized using numpy.\n",
    "   - `v6_gridding_vectorized_multithreaded.py`: On top of vectorizing the gridding function it uses python `concurrent` library to parallelize the gridding over `n_workers` threads using chunks of the dataset.\n",
    "   - `v7_mpi_timesteps.py`: Using `mpi4py` library we divide the computation of the grid over timsteps to multiple processes.\n",
    "   - `v8_mpi_baselines.py`: Same as above but divide the dataset over baseline pairs wrather than timesteps to multiple process."
   ]
  },
  {
   "cell_type": "markdown",
   "id": "23110084-cdca-4e8b-8afb-fb8edb2d034e",
   "metadata": {},
   "source": [
    "### Benchmarking\n",
    "\n",
    "Here we present the benchmarking results obtained on the pure python implementation. Note that these benchmarks are done on a single node consisting of an **"
   ]
  },
  {
   "cell_type": "code",
   "execution_count": null,
   "id": "7d248020-1c6a-4001-8360-a7dff6354a1e",
   "metadata": {},
   "outputs": [],
   "source": []
  }
 ],
 "metadata": {
  "kernelspec": {
   "display_name": "Python 3 (ipykernel)",
   "language": "python",
   "name": "python3"
  },
  "language_info": {
   "codemirror_mode": {
    "name": "ipython",
    "version": 3
   },
   "file_extension": ".py",
   "mimetype": "text/x-python",
   "name": "python",
   "nbconvert_exporter": "python",
   "pygments_lexer": "ipython3",
   "version": "3.12.3"
  }
 },
 "nbformat": 4,
 "nbformat_minor": 5
}
