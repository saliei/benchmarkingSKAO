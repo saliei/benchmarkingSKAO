{
 "cells": [
  {
   "cell_type": "code",
   "execution_count": 10,
   "id": "7d248020-1c6a-4001-8360-a7dff6354a1e",
   "metadata": {},
   "outputs": [],
   "source": [
    "from IPython.display import Image"
   ]
  },
  {
   "cell_type": "markdown",
   "id": "d7628cac-d383-4eff-8c79-5ea119200c6b",
   "metadata": {},
   "source": [
    "# Gridding\n",
    "\n",
    "Here we present multiple solutions and approaches on the gridding problem for a potentially huge dataset."
   ]
  },
  {
   "cell_type": "markdown",
   "id": "e2d672d4-a7f0-48bb-9aa0-edcc2017983a",
   "metadata": {},
   "source": [
    "## Summary\n",
    "\n",
    "- We achieve a **10 fold** increase...\n",
    "- scaling\n",
    "- C\n",
    "- CUDA\n",
    "\n",
    "In what follows we put the detailed study of the different approaches and benchmarking results for different versions: "
   ]
  },
  {
   "cell_type": "markdown",
   "id": "26553d83-79f0-4974-b6af-4ca22769bd9f",
   "metadata": {},
   "source": [
    "## `python/` \n",
    "\n",
    "Contains the treatment of the problem in pure python, the approaches taken on each of the versions are as follow:\n",
    "   - `v0_original.py`: The original version of the code.\n",
    "   - `v1_index_calc_jitted.py`: Calculating the grid indices has been Just In Compiled (JIT).\n",
    "   - `v2_gridding_jitted.py`: The whole gridding function has been compiled.\n",
    "   - `v3_single_timestep_vectorized.py`: Calculation of a single timestep of the grid has been fully vectorized using numpy intrinsic functions.\n",
    "   - `v4_single_timestep_vectorized_jitted.py`: On top of vectorizing a single timestep the function for calculating a single timestep of the grid has been compiled.\n",
    "   - `v5_gridding_vectorized.py`: The whole gridding function has been fully vectorized using numpy.\n",
    "   - `v6_gridding_vectorized_multithreaded.py`: On top of vectorizing the gridding function it uses python `concurrent` library to parallelize the gridding over `n_workers` threads using chunks of the dataset.\n",
    "   - `v7_mpi_timesteps.py`: Using `mpi4py` library we divide the computation of the grid over timsteps to multiple processes.\n",
    "   - `v8_mpi_baselines.py`: Same as above but divide the dataset over baseline pairs wrather than timesteps to multiple process."
   ]
  },
  {
   "cell_type": "markdown",
   "id": "23110084-cdca-4e8b-8afb-fb8edb2d034e",
   "metadata": {},
   "source": [
    "### Benchmarking\n",
    "\n",
    "Here we present the benchmarking results obtained on pure python implementations. Note that these benchmarks are done on a single node, with *dual sockets* and an *AMD EPYC 7H12 64-Core Processor* per socket."
   ]
  },
  {
   "cell_type": "markdown",
   "id": "26270b48-eb09-4ec5-b07e-ebc10dbff9bd",
   "metadata": {},
   "source": [
    "![original_version](python/plots/v0_original.png)"
   ]
  },
  {
   "cell_type": "markdown",
   "id": "2283fc8b-4da3-4b20-9c03-293807518459",
   "metadata": {},
   "source": [
    "From the benchmark above we see that the most time consuming and the bottleneck is the `gridding` function as we expected from the 3 nestes loops in python! For this reason we will focus our attention on the gridding function and will present the different results and strategies on that.\n",
    "\n",
    "Here we put the benchamrking for the different version of the code, without any explicit parallelism by us (e.g. the benchmarks below are for the versions 1 to 5 without any multi-threading or use of MPI multi-processing)"
   ]
  },
  {
   "cell_type": "markdown",
   "id": "8119c2bf-1580-4570-acee-70f6af7bfbcf",
   "metadata": {},
   "source": [
    "![v1tov5](python/plots/v1tov5.png)"
   ]
  },
  {
   "cell_type": "markdown",
   "id": "80724f33-703a-4c57-a3d1-8caa0fd7b993",
   "metadata": {},
   "source": [
    "![v6](python/plots/v6.png)"
   ]
  },
  {
   "cell_type": "markdown",
   "id": "0c90bd9c-d7a2-45d0-97ea-db8244981027",
   "metadata": {},
   "source": [
    "![v7v8](python/plots/v7v8.png)"
   ]
  },
  {
   "cell_type": "code",
   "execution_count": null,
   "id": "78f61901-af7a-4001-b965-3a885cd055bb",
   "metadata": {},
   "outputs": [],
   "source": []
  }
 ],
 "metadata": {
  "kernelspec": {
   "display_name": "Python 3 (ipykernel)",
   "language": "python",
   "name": "python3"
  },
  "language_info": {
   "codemirror_mode": {
    "name": "ipython",
    "version": 3
   },
   "file_extension": ".py",
   "mimetype": "text/x-python",
   "name": "python",
   "nbconvert_exporter": "python",
   "pygments_lexer": "ipython3",
   "version": "3.12.3"
  }
 },
 "nbformat": 4,
 "nbformat_minor": 5
}
